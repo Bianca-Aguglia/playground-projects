{
 "cells": [
  {
   "cell_type": "markdown",
   "id": "9f1465f5",
   "metadata": {},
   "source": [
    "# Text-viz\n",
    "---\n",
    "  \n",
    "**Goal:** create a webapp that makes it easy for me to visualize what I'm reading (e.g. books, research papers, blog posts, news articles, etc)\n",
    "  \n"
   ]
  },
  {
   "cell_type": "markdown",
   "id": "41428bf8",
   "metadata": {},
   "source": [
    "**To-do**\n",
    "- [ ] map\n",
    "    - [ ] map layers (physical, political, other? (weather?))\n",
    "    - [ ] tooltip\n",
    "    - [ ] distance\n",
    "        - [ ] option to compare to known location (e.g. my_home_town to location_i_am_familiar_with)"
   ]
  },
  {
   "cell_type": "code",
   "execution_count": null,
   "id": "6560b72d",
   "metadata": {},
   "outputs": [],
   "source": []
  },
  {
   "cell_type": "code",
   "execution_count": null,
   "id": "72436af7",
   "metadata": {},
   "outputs": [],
   "source": []
  },
  {
   "cell_type": "code",
   "execution_count": null,
   "id": "40b045d6",
   "metadata": {},
   "outputs": [],
   "source": []
  },
  {
   "cell_type": "markdown",
   "id": "9e8dbac2",
   "metadata": {},
   "source": [
    "## Notes\n",
    "---\n",
    "- 18aug22: I'm creating jupyter notebooks to test small ideas. Not sure it's the best workflow. Good enough for now."
   ]
  },
  {
   "cell_type": "code",
   "execution_count": null,
   "id": "0ccf3d71",
   "metadata": {},
   "outputs": [],
   "source": []
  }
 ],
 "metadata": {
  "kernelspec": {
   "display_name": "Python 3",
   "language": "python",
   "name": "python3"
  },
  "language_info": {
   "codemirror_mode": {
    "name": "ipython",
    "version": 3
   },
   "file_extension": ".py",
   "mimetype": "text/x-python",
   "name": "python",
   "nbconvert_exporter": "python",
   "pygments_lexer": "ipython3",
   "version": "3.7.7"
  }
 },
 "nbformat": 4,
 "nbformat_minor": 5
}
